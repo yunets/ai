{
 "cells": [
  {
   "cell_type": "markdown",
   "metadata": {},
   "source": [
    "####  matplotlib绘制直方图、条形图和饼图\n",
    "matplotlib是一个非常强大的Python第三方绘图包，可以绘制非常多非常漂亮的图形。matplotlib.pyplot提供了一个类Matlab的函数式编程环境。通常的绘图任务，都可以通过matplotlib.pyplot完成，下面将记录下绘制直方图和饼图的过程。\n",
    "\n",
    "1 绘制直方图\n",
    "首先需要区分清楚概念：直方图和条形图。\n",
    "\n",
    "- 条形图：条形图用长条形表示每一个类别，长条形的长度表示类别的频数，宽度表示表示类别。\n",
    "直方图：直方图是一种统计报告图，形式上也是一个个的长条形，但是直方图用长条形的面积表示频数，所以长条形的高度表示频数组距频数组距，宽度表示组距，其长度和宽度均有意义。当宽度相同时，一般就用长条形长度表示频数。\n",
    "- 直方图一般用来描述等距数据，柱状图一般用来描述名称（类别）数据或顺序数据。直观上，直方图各个长条形是衔接在一起的，表示数据间的数学关系；条形图各长条形之间留有空隙，区分不同的类。\n",
    "\n",
    "区别|频数分布直方图| 条形图\n",
    "--|--|--\n",
    "横轴上的数据 |连续的，是一个范围|孤立的，代表一个类别\n",
    "长条形之间| 没有空隙| 有空隙\n",
    "频数的表示| 一般用长条形面积表示；当宽度相同时，用长度表示 | 长条形的长度\n"
   ]
  },
  {
   "cell_type": "code",
   "execution_count": 1,
   "metadata": {},
   "outputs": [],
   "source": [
    "# import matplotlib.pyplot as plt\n",
    "# print(plt.style.available) #查看可用的绘图风格\n",
    "# plt.style.use('bmh')  #使用bmh风格\n"
   ]
  },
  {
   "cell_type": "markdown",
   "metadata": {},
   "source": [
    "# %matplotlib作用\n",
    "\n",
    "1. 是在使用jupyter notebook 或者 jupyter qtconsole的时候，才会经常用到%matplotlib，也就是说那一份代码可能就是别人使用jupyter notebook 或者 jupyter qtconsole进行编辑的。关于jupyter notebook是什么，可以参考这个链接：[Jupyter Notebook介绍、安装及使用教程][1]\n",
    "2. 而%matplotlib具体作用是当你调用matplotlib.pyplot的绘图函数plot()进行绘图的时候，或者生成一个figure画布的时候，可以直接在你的python console里面生成图像。\n",
    "\n"
   ]
  },
  {
   "cell_type": "code",
   "execution_count": 2,
   "metadata": {},
   "outputs": [],
   "source": [
    "# %matplotlib inline "
   ]
  },
  {
   "cell_type": "markdown",
   "metadata": {},
   "source": [
    "# 1.直方图"
   ]
  },
  {
   "cell_type": "code",
   "execution_count": 3,
   "metadata": {},
   "outputs": [
    {
     "data": {
      "image/png": "[encoded data removed]",
      "text/plain": [
       "<matplotlib.figure.Figure at 0x4e1a6a0>"
      ]
     },
     "metadata": {},
     "output_type": "display_data"
    }
   ],
   "source": [
    "import matplotlib.pyplot as plt\n",
    "import numpy as np\n",
    "import matplotlib\n",
    "\n",
    "# 设置matplotlib正常显示中文和负号\n",
    "matplotlib.rcParams['font.sans-serif']=['SimHei']   # 用黑体显示中文\n",
    "matplotlib.rcParams['axes.unicode_minus']=False     # 正常显示负号\n",
    "# 随机生成（10000,）服从正态分布的数据\n",
    "data = np.random.randn(10000)\n",
    "\"\"\"\n",
    "绘制直方图\n",
    "data:必选参数，绘图数据\n",
    "bins:直方图的长条形数目，可选项，默认为10\n",
    "normed:是否将得到的直方图向量归一化，可选项，默认为0，代表不归一化，显示频数。normed=1，表示归一化，显示频率。\n",
    "facecolor:长条形的颜色\n",
    "edgecolor:长条形边框的颜色\n",
    "alpha:透明度\n",
    "\"\"\"\n",
    "plt.hist(data, bins=40, normed=0, facecolor=\"blue\", edgecolor=\"black\", alpha=0.7)\n",
    "# 显示横轴标签\n",
    "plt.xlabel(\"区间\")\n",
    "# 显示纵轴标签\n",
    "plt.ylabel(\"频数/频率\")\n",
    "# 显示图标题\n",
    "plt.title(\"频数/频率分布直方图\")\n",
    "plt.show()"
   ]
  },
  {
   "cell_type": "code",
   "execution_count": 4,
   "metadata": {},
   "outputs": [
    {
     "data": {
      "image/png": "[encoded data removed]",
      "text/plain": [
       "<matplotlib.figure.Figure at 0x83bb3c8>"
      ]
     },
     "metadata": {},
     "output_type": "display_data"
    }
   ],
   "source": [
    "import matplotlib.pyplot as plt\n",
    "import matplotlib\n",
    "# 设置中文字体和负号正常显示\n",
    "matplotlib.rcParams['font.sans-serif'] = ['SimHei']\n",
    "matplotlib.rcParams['axes.unicode_minus'] = False\n",
    "\n",
    "label_list = ['2014', '2015', '2016', '2017']    # 横坐标刻度显示值\n",
    "num_list1 = [20, 30, 15, 35]      # 纵坐标值1\n",
    "num_list2 = [15, 30, 40, 20]      # 纵坐标值2\n",
    "x = range(len(num_list1))\n",
    "\"\"\"\n",
    "绘制条形图\n",
    "left:长条形中点横坐标\n",
    "height:长条形高度\n",
    "width:长条形宽度，默认值0.8\n",
    "label:为后面设置legend准备\n",
    "\"\"\"\n",
    "rects1 = plt.bar(left=x, height=num_list1, width=0.4, alpha=0.8, color='red', label=\"一部门\")\n",
    "rects2 = plt.bar(left=[i + 0.4 for i in x], height=num_list2, width=0.4, color='green', label=\"二部门\")\n",
    "plt.ylim(0, 50)     # y轴取值范围\n",
    "plt.ylabel(\"数量\")\n",
    "\"\"\"\n",
    "设置x轴刻度显示值\n",
    "参数一：中点坐标\n",
    "参数二：显示值\n",
    "\"\"\"\n",
    "\n",
    "plt.xticks([index + 0.2 for index in x], label_list)\n",
    "plt.xlabel(\"年份\")\n",
    "plt.title(\"某某公司\")\n",
    "plt.legend()     # 设置题注\n",
    "# 编辑文本\n",
    "for rect in rects1:\n",
    "    height = rect.get_height()\n",
    "    plt.text(rect.get_x() + rect.get_width() / 2, height+1, str(height), ha=\"center\", va=\"bottom\")\n",
    "for rect in rects2:\n",
    "    height = rect.get_height()\n",
    "    plt.text(rect.get_x() + rect.get_width() / 2, height+1, str(height), ha=\"center\", va=\"bottom\")\n",
    "plt.show()"
   ]
  },
  {
   "cell_type": "code",
   "execution_count": 6,
   "metadata": {},
   "outputs": [],
   "source": [
    "# 堆叠条形图"
   ]
  },
  {
   "cell_type": "code",
   "execution_count": 7,
   "metadata": {},
   "outputs": [
    {
     "data": {
      "image/png": "[encoded data removed]",
      "text/plain": [
       "<matplotlib.figure.Figure at 0x85f1828>"
      ]
     },
     "metadata": {},
     "output_type": "display_data"
    }
   ],
   "source": [
    "import matplotlib.pyplot as plt\n",
    "import matplotlib\n",
    "\n",
    "matplotlib.rcParams['font.sans-serif'] = ['SimHei']\n",
    "matplotlib.rcParams['axes.unicode_minus'] = False\n",
    "\n",
    "label_list = ['2014', '2015', '2016', '2017']\n",
    "num_list1 = [20, 30, 15, 35]\n",
    "num_list2 = [15, 30, 40, 20]\n",
    "x = range(len(num_list1))\n",
    "rects1 = plt.bar(left=x, height=num_list1, width=0.45, alpha=0.8, color='red', label=\"一部门\")\n",
    "rects2 = plt.bar(left=x, height=num_list2, width=0.45, color='green', label=\"二部门\", bottom=num_list1)\n",
    "plt.ylim(0, 80)\n",
    "plt.ylabel(\"数量\")\n",
    "plt.xticks(x, label_list)\n",
    "plt.xlabel(\"年份\")\n",
    "plt.title(\"某某公司\")\n",
    "plt.legend()\n",
    "plt.show()"
   ]
  },
  {
   "cell_type": "markdown",
   "metadata": {},
   "source": [
    "# 饼图"
   ]
  },
  {
   "cell_type": "code",
   "execution_count": 8,
   "metadata": {},
   "outputs": [
    {
     "data": {
      "image/png": "[encoded data removed]",
      "text/plain": [
       "<matplotlib.figure.Figure at 0x8505b00>"
      ]
     },
     "metadata": {},
     "output_type": "display_data"
    }
   ],
   "source": [
    "import matplotlib.pyplot as plt\n",
    "import matplotlib\n",
    "\n",
    "matplotlib.rcParams['font.sans-serif'] = ['SimHei']\n",
    "matplotlib.rcParams['axes.unicode_minus'] = False\n",
    "\n",
    "label_list = [\"第一部分\", \"第二部分\", \"第三部分\"]    # 各部分标签\n",
    "size = [55, 35, 10]    # 各部分大小\n",
    "color = [\"red\", \"green\", \"blue\"]     # 各部分颜色\n",
    "explode = [0.05, 0, 0]   # 各部分突出值\n",
    "\"\"\"\n",
    "绘制饼图\n",
    "explode：设置各部分突出\n",
    "label:设置各部分标签\n",
    "labeldistance:设置标签文本距圆心位置，1.1表示1.1倍半径\n",
    "autopct：设置圆里面文本\n",
    "shadow：设置是否有阴影\n",
    "startangle：起始角度，默认从0开始逆时针转\n",
    "pctdistance：设置圆内文本距圆心距离\n",
    "返回值\n",
    "l_text：圆内部文本，matplotlib.text.Text object\n",
    "p_text：圆外部文本\n",
    "\"\"\"\n",
    "patches, l_text, p_text = plt.pie(size, explode=explode, colors=color, labels=label_list, labeldistance=1.1, autopct=\"%1.1f%%\", shadow=False, startangle=90, pctdistance=0.6)\n",
    "plt.axis(\"equal\")    # 设置横轴和纵轴大小相等，这样饼才是圆的\n",
    "plt.legend()\n",
    "plt.show()"
   ]
  },
  {
   "cell_type": "code",
   "execution_count": 19,
   "metadata": {},
   "outputs": [
    {
     "data": {
      "image/png": "[encoded data removed]",
      "text/plain": [
       "<matplotlib.figure.Figure at 0x88a3eb8>"
      ]
     },
     "metadata": {},
     "output_type": "display_data"
    }
   ],
   "source": [
    "X=[1,2,3,4,5,6]\n",
    "Y=[1,2,3,4,5,6] #定义折线图的X，Y坐标\n",
    " \n",
    "plt.plot(X, Y) #折线图\n",
    "plt.title(\"折线图\")\n",
    "plt.show()\n",
    "\n",
    "plt.savefig('折线图.png')"
   ]
  },
  {
   "cell_type": "code",
   "execution_count": null,
   "metadata": {},
   "outputs": [],
   "source": []
  }
 ],
 "metadata": {
  "kernelspec": {
   "display_name": "Python 3",
   "language": "python",
   "name": "python3"
  },
  "language_info": {
   "codemirror_mode": {
    "name": "ipython",
    "version": 3
   },
   "file_extension": ".py",
   "mimetype": "text/x-python",
   "name": "python",
   "nbconvert_exporter": "python",
   "pygments_lexer": "ipython3",
   "version": "3.6.1"
  }
 },
 "nbformat": 4,
 "nbformat_minor": 4
}
